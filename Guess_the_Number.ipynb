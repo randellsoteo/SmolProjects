{
  "nbformat": 4,
  "nbformat_minor": 0,
  "metadata": {
    "colab": {
      "provenance": [],
      "authorship_tag": "ABX9TyM4gjohKecw4gT5nfw9aC7D"
    },
    "kernelspec": {
      "name": "python3",
      "display_name": "Python 3"
    },
    "language_info": {
      "name": "python"
    }
  },
  "cells": [
    {
      "cell_type": "code",
      "execution_count": null,
      "metadata": {
        "colab": {
          "base_uri": "https://localhost:8080/"
        },
        "id": "sFbPJI1u1gtL",
        "outputId": "513d101e-c556-40bc-a55f-a8ceafa273f3"
      },
      "outputs": [
        {
          "output_type": "stream",
          "name": "stdout",
          "text": [
            "Welcome to Guess the Number!\n",
            "How many attempts would you like to have? Enter here: 5\n",
            "\n",
            "I'm thinking of a number between 1 and 50. Can you guess it?\n",
            "You have 5 attempt/s.\n",
            "You can quit anytime by typing 'q'\n",
            "Attempt 1/5: 40\n",
            "Too high! Lower!\n",
            "Attempt 2/5: 30\n",
            "Too low! Higher!\n",
            "Attempt 3/5: 33\n",
            "Too low! Higher!\n",
            "Attempt 4/5: 36\n",
            "Too low! Higher!\n",
            "Attempt 5/5: 39\n",
            "Paldo boss! You guessed it in 5 attempt(s)!\n",
            "\n",
            "Game has ended. Do you want to play again? (y/n): y\n",
            "How many attempts would you like to have? Enter here: 10\n",
            "\n",
            "I'm thinking of a number between 1 and 50. Can you guess it?\n",
            "You have 10 attempt/s.\n",
            "You can quit anytime by typing 'q'\n",
            "Attempt 1/10: 40\n",
            "Too high! Lower!\n",
            "Attempt 2/10: 28\n",
            "Too high! Lower!\n",
            "Attempt 3/10: 15\n",
            "Too low! Higher!\n",
            "Attempt 4/10: 23\n",
            "Too low! Higher!\n",
            "Attempt 5/10: 26\n",
            "Too low! Higher!\n",
            "Attempt 6/10: 27\n",
            "Paldo boss! You guessed it in 6 attempt(s)!\n"
          ]
        }
      ],
      "source": [
        "import random\n",
        "\n",
        "print(\"Welcome to Guess the Number!\")\n",
        "\n",
        "while True:\n",
        "    attempts = 0\n",
        "    max_attempts = 0\n",
        "    max_attempts = input(\"How many attempts would you like to have? Enter here: \")\n",
        "    max_attempts = int(max_attempts)\n",
        "    target = random.randint(1, 50)\n",
        "\n",
        "    print(\"\\nI'm thinking of a number between 1 and 50. Can you guess it?\")\n",
        "    print(f\"You have {max_attempts} attempt/s.\")\n",
        "    print(\"You can quit anytime by typing 'q'\")\n",
        "\n",
        "    while attempts < max_attempts:\n",
        "        guess = input(f\"Attempt {attempts + 1}/{max_attempts}: \")\n",
        "        if guess == \"q\":\n",
        "            print(\"Goodbye!\")\n",
        "            exit()\n",
        "\n",
        "        # Error catching\n",
        "        try:\n",
        "            guess = int(guess)\n",
        "        except ValueError:\n",
        "            print(\"Please enter a valid number.\")\n",
        "            continue\n",
        "\n",
        "        # Boundary constraint\n",
        "        if guess < 1 or guess > 100:\n",
        "            print(\"Please enter a number between 1 and 100\")\n",
        "            continue\n",
        "\n",
        "        # Increment attempts\n",
        "        attempts += 1\n",
        "\n",
        "        # Logic\n",
        "        if guess < target:\n",
        "            print(\"Too low! Higher!\")\n",
        "        elif guess > target:\n",
        "            print(\"Too high! Lower!\")\n",
        "        else:\n",
        "            print(f\"Paldo boss! You guessed it in {attempts} attempt(s)!\")\n",
        "            break\n",
        "    else:\n",
        "        # This else runs if they use up all attempts without guessing correctly\n",
        "        print(f\"You have run out of attempts! The number was {target}.\")\n",
        "\n",
        "    # Replay prompt\n",
        "    play_again = input(\"\\nGame has ended. Do you want to play again? (y/n): \").lower()\n",
        "    if play_again != \"y\":\n",
        "        print(\"Goodbye!\")\n",
        "        break"
      ]
    },
    {
      "cell_type": "code",
      "source": [],
      "metadata": {
        "id": "CoqP77XR2TY9"
      },
      "execution_count": null,
      "outputs": []
    }
  ]
}