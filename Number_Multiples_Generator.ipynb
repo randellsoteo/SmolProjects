{
  "nbformat": 4,
  "nbformat_minor": 0,
  "metadata": {
    "colab": {
      "provenance": [],
      "authorship_tag": "ABX9TyN/K4HLiESpO0Ucv0HoyuVH"
    },
    "kernelspec": {
      "name": "python3",
      "display_name": "Python 3"
    },
    "language_info": {
      "name": "python"
    }
  },
  "cells": [
    {
      "cell_type": "code",
      "execution_count": 2,
      "metadata": {
        "colab": {
          "base_uri": "https://localhost:8080/"
        },
        "id": "sFbPJI1u1gtL",
        "outputId": "c8bd687b-f2f9-40c2-c1df-5e4d3cab67f1"
      },
      "outputs": [
        {
          "output_type": "stream",
          "name": "stdout",
          "text": [
            "Number Multiples generator\n",
            "Enter your number: 17\n",
            "Enter how many multiples: 10\n",
            "17x1=17\n",
            "17x2=34\n",
            "17x3=51\n",
            "17x4=68\n",
            "17x5=85\n",
            "17x6=102\n",
            "17x7=119\n",
            "17x8=136\n",
            "17x9=153\n",
            "17x10=170\n",
            "Would you like to generate multiples again?(y/n): n\n",
            "Goodbye!\n"
          ]
        }
      ],
      "source": [
        "print(\"Number Multiples generator\")\n",
        "\n",
        "while True:\n",
        "\n",
        "    number = input(\"Enter your number: \")\n",
        "    multiple = input(\"Enter how many multiples: \")\n",
        "    multiple = int(multiple)\n",
        "    number = int(number)\n",
        "\n",
        "    i = 0\n",
        "\n",
        "    for i in range(1,multiple+1):\n",
        "        print(f\"{number}x{i}={number*i}\")\n",
        "\n",
        "    again = input(\"Would you like to generate multiples again?(y/n): \")\n",
        "    if again != \"y\":\n",
        "            print(\"Goodbye!\")\n",
        "            break\n",
        ""
      ]
    },
    {
      "cell_type": "code",
      "source": [],
      "metadata": {
        "id": "CoqP77XR2TY9"
      },
      "execution_count": null,
      "outputs": []
    }
  ]
}