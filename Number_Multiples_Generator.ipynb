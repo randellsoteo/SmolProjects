{
  "nbformat": 4,
  "nbformat_minor": 0,
  "metadata": {
    "colab": {
      "provenance": [],
      "authorship_tag": "ABX9TyPLstE880pTpWmJuaGsInd6"
    },
    "kernelspec": {
      "name": "python3",
      "display_name": "Python 3"
    },
    "language_info": {
      "name": "python"
    }
  },
  "cells": [
    {
      "cell_type": "code",
      "execution_count": 1,
      "metadata": {
        "colab": {
          "base_uri": "https://localhost:8080/"
        },
        "id": "sFbPJI1u1gtL",
        "outputId": "6d729f84-8942-4de5-9cc8-928829f6f4a4"
      },
      "outputs": [
        {
          "output_type": "stream",
          "name": "stdout",
          "text": [
            "Number Multiples generator\n",
            "Enter your number: 7\n",
            "Enter how many multiples: 6\n",
            "7x1=7\n",
            "7x2=14\n",
            "7x3=21\n",
            "7x4=28\n",
            "7x5=35\n",
            "7x6=42\n",
            "Would you like to generate multiples again?(y/n): n\n",
            "Goodbye!\n"
          ]
        }
      ],
      "source": [
        "while True:\n",
        "    print(\"Number Multiples generator\")\n",
        "    number = input(\"Enter your number: \")\n",
        "    try:\n",
        "        number = int(number)\n",
        "    except ValueError:\n",
        "        print(\"Please enter valid number...\\n\")\n",
        "        continue\n",
        "\n",
        "    multiple = input(\"Enter how many multiples: \")\n",
        "    try:\n",
        "        multiple = int(multiple)\n",
        "    except ValueError:\n",
        "        print(\"Please enter valid number...\\n\")\n",
        "        continue\n",
        "\n",
        "    i = 0\n",
        "\n",
        "    for i in range(1,multiple+1):\n",
        "        print(f\"{number}x{i}={number*i}\")\n",
        "\n",
        "    again = input(\"Would you like to generate multiples again?(y/n): \")\n",
        "    if again != \"y\":\n",
        "            print(\"Goodbye!\")\n",
        "            break"
      ]
    },
    {
      "cell_type": "code",
      "source": [],
      "metadata": {
        "id": "CoqP77XR2TY9"
      },
      "execution_count": null,
      "outputs": []
    }
  ]
}