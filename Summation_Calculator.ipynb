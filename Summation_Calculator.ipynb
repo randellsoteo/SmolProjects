{
  "nbformat": 4,
  "nbformat_minor": 0,
  "metadata": {
    "colab": {
      "provenance": [],
      "authorship_tag": "ABX9TyPtGXhcFJMCeeVpFTEv+wk8"
    },
    "kernelspec": {
      "name": "python3",
      "display_name": "Python 3"
    },
    "language_info": {
      "name": "python"
    }
  },
  "cells": [
    {
      "cell_type": "code",
      "execution_count": 5,
      "metadata": {
        "colab": {
          "base_uri": "https://localhost:8080/"
        },
        "id": "sFbPJI1u1gtL",
        "outputId": "862f539b-0db3-4873-d573-686c47012a35"
      },
      "outputs": [
        {
          "output_type": "stream",
          "name": "stdout",
          "text": [
            "Welcome to Summation Calculator\n",
            "Enter a positive integer n: 500\n",
            "125250\n",
            "Do you want to calculate again? (y/n): n\n",
            "Goodbye!\n"
          ]
        }
      ],
      "source": [
        "while True:\n",
        "    print(\"Welcome to Summation Calculator\")\n",
        "    number = input(\"Enter a positive integer n: \")\n",
        "\n",
        "    try:\n",
        "        number = int(number)\n",
        "    except ValueError:\n",
        "        print(\"Not an integer!\")\n",
        "    else:\n",
        "        total = 0\n",
        "        i = 0\n",
        "        for i in range(1,number+1):\n",
        "            total = total + i\n",
        "        print(total)\n",
        "\n",
        "    again = input(\"Do you want to calculate again? (y/n): \")\n",
        "    if again != \"y\":\n",
        "        print(\"Goodbye!\")\n",
        "        break"
      ]
    },
    {
      "cell_type": "code",
      "source": [],
      "metadata": {
        "id": "CoqP77XR2TY9"
      },
      "execution_count": null,
      "outputs": []
    }
  ]
}